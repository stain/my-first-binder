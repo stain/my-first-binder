{
 "cells": [
  {
   "cell_type": "code",
   "execution_count": 1,
   "id": "94c8d099-5622-409c-a2f4-aa739d483204",
   "metadata": {},
   "outputs": [],
   "source": [
    "%matplotlib inline\n",
    "\n",
    "import pandas\n",
    "\n",
    "data = pandas.read_csv(\"gapminder.csv\", index_col=\"country\")\n"
   ]
  },
  {
   "cell_type": "code",
   "execution_count": 3,
   "id": "94c5dfaa-4945-48d0-bb35-740c1fbb4ada",
   "metadata": {},
   "outputs": [
    {
     "data": {
      "text/html": [
       "<div>\n",
       "<style scoped>\n",
       "    .dataframe tbody tr th:only-of-type {\n",
       "        vertical-align: middle;\n",
       "    }\n",
       "\n",
       "    .dataframe tbody tr th {\n",
       "        vertical-align: top;\n",
       "    }\n",
       "\n",
       "    .dataframe thead th {\n",
       "        text-align: right;\n",
       "    }\n",
       "</style>\n",
       "<table border=\"1\" class=\"dataframe\">\n",
       "  <thead>\n",
       "    <tr style=\"text-align: right;\">\n",
       "      <th></th>\n",
       "      <th>gdpPercap_1952</th>\n",
       "      <th>gdpPercap_1957</th>\n",
       "      <th>gdpPercap_1962</th>\n",
       "      <th>gdpPercap_1967</th>\n",
       "      <th>gdpPercap_1972</th>\n",
       "      <th>gdpPercap_1977</th>\n",
       "      <th>gdpPercap_1982</th>\n",
       "      <th>gdpPercap_1987</th>\n",
       "      <th>gdpPercap_1992</th>\n",
       "      <th>gdpPercap_1997</th>\n",
       "      <th>gdpPercap_2002</th>\n",
       "      <th>gdpPercap_2007</th>\n",
       "    </tr>\n",
       "    <tr>\n",
       "      <th>country</th>\n",
       "      <th></th>\n",
       "      <th></th>\n",
       "      <th></th>\n",
       "      <th></th>\n",
       "      <th></th>\n",
       "      <th></th>\n",
       "      <th></th>\n",
       "      <th></th>\n",
       "      <th></th>\n",
       "      <th></th>\n",
       "      <th></th>\n",
       "      <th></th>\n",
       "    </tr>\n",
       "  </thead>\n",
       "  <tbody>\n",
       "    <tr>\n",
       "      <th>Australia</th>\n",
       "      <td>10039.59564</td>\n",
       "      <td>10949.64959</td>\n",
       "      <td>12217.22686</td>\n",
       "      <td>14526.12465</td>\n",
       "      <td>16788.62948</td>\n",
       "      <td>18334.19751</td>\n",
       "      <td>19477.00928</td>\n",
       "      <td>21888.88903</td>\n",
       "      <td>23424.76683</td>\n",
       "      <td>26997.93657</td>\n",
       "      <td>30687.75473</td>\n",
       "      <td>34435.36744</td>\n",
       "    </tr>\n",
       "    <tr>\n",
       "      <th>New Zealand</th>\n",
       "      <td>10556.57566</td>\n",
       "      <td>12247.39532</td>\n",
       "      <td>13175.67800</td>\n",
       "      <td>14463.91893</td>\n",
       "      <td>16046.03728</td>\n",
       "      <td>16233.71770</td>\n",
       "      <td>17632.41040</td>\n",
       "      <td>19007.19129</td>\n",
       "      <td>18363.32494</td>\n",
       "      <td>21050.41377</td>\n",
       "      <td>23189.80135</td>\n",
       "      <td>25185.00911</td>\n",
       "    </tr>\n",
       "  </tbody>\n",
       "</table>\n",
       "</div>"
      ],
      "text/plain": [
       "             gdpPercap_1952  gdpPercap_1957  gdpPercap_1962  gdpPercap_1967  \\\n",
       "country                                                                       \n",
       "Australia       10039.59564     10949.64959     12217.22686     14526.12465   \n",
       "New Zealand     10556.57566     12247.39532     13175.67800     14463.91893   \n",
       "\n",
       "             gdpPercap_1972  gdpPercap_1977  gdpPercap_1982  gdpPercap_1987  \\\n",
       "country                                                                       \n",
       "Australia       16788.62948     18334.19751     19477.00928     21888.88903   \n",
       "New Zealand     16046.03728     16233.71770     17632.41040     19007.19129   \n",
       "\n",
       "             gdpPercap_1992  gdpPercap_1997  gdpPercap_2002  gdpPercap_2007  \n",
       "country                                                                      \n",
       "Australia       23424.76683     26997.93657     30687.75473     34435.36744  \n",
       "New Zealand     18363.32494     21050.41377     23189.80135     25185.00911  "
      ]
     },
     "execution_count": 3,
     "metadata": {},
     "output_type": "execute_result"
    }
   ],
   "source": [
    "data"
   ]
  },
  {
   "cell_type": "code",
   "execution_count": 5,
   "id": "cb8b7b96-b7e7-482c-8db9-18b844438402",
   "metadata": {},
   "outputs": [
    {
     "data": {
      "text/plain": [
       "Index(['1952', '1957', '1962', '1967', '1972', '1977', '1982', '1987', '1992',\n",
       "       '1997', '2002', '2007'],\n",
       "      dtype='object')"
      ]
     },
     "execution_count": 5,
     "metadata": {},
     "output_type": "execute_result"
    }
   ],
   "source": [
    "\n",
    "years = data.columns.str.strip(\"gdpPercap_\")  # Extract year from last 4 characters of each column name\n",
    "years"
   ]
  },
  {
   "cell_type": "code",
   "execution_count": 6,
   "id": "fb6c56db-8216-4fb9-80a7-004f93221626",
   "metadata": {},
   "outputs": [
    {
     "data": {
      "text/plain": [
       "<Axes: >"
      ]
     },
     "execution_count": 6,
     "metadata": {},
     "output_type": "execute_result"
    },
    {
     "data": {
      "image/png": "[encoded data removed]",
      "text/plain": [
       "<Figure size 640x480 with 1 Axes>"
      ]
     },
     "metadata": {},
     "output_type": "display_data"
    }
   ],
   "source": [
    "data.columns = years.astype(int)              # Convert year values to integers, saving results back to dataframe\n",
    "\n",
    "data.loc[\"Australia\"].plot()"
   ]
  },
  {
   "cell_type": "code",
   "execution_count": null,
   "id": "7178f14a-ddb8-4c31-8021-f0677738fb4d",
   "metadata": {},
   "outputs": [],
   "source": []
  }
 ],
 "metadata": {
  "kernelspec": {
   "display_name": "Python 3 (ipykernel)",
   "language": "python",
   "name": "python3"
  },
  "language_info": {
   "codemirror_mode": {
    "name": "ipython",
    "version": 3
   },
   "file_extension": ".py",
   "mimetype": "text/x-python",
   "name": "python",
   "nbconvert_exporter": "python",
   "pygments_lexer": "ipython3",
   "version": "3.10.19"
  }
 },
 "nbformat": 4,
 "nbformat_minor": 5
}
